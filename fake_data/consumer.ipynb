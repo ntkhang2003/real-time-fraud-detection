{
 "cells": [
  {
   "cell_type": "code",
   "execution_count": 1,
   "metadata": {},
   "outputs": [],
   "source": [
    "import findspark\n",
    "findspark.init()\n",
    "import pyspark"
   ]
  },
  {
   "cell_type": "code",
   "execution_count": 2,
   "metadata": {},
   "outputs": [],
   "source": [
    "from pyspark.sql.functions import col, substring, round"
   ]
  },
  {
   "cell_type": "code",
   "execution_count": 3,
   "metadata": {},
   "outputs": [],
   "source": [
    "def calculate_distance(lat1, lon1, lat2, lon2):\n",
    "    return ((lat2 - lat1)**2 + (lon2 - lon1)**2)**1/2"
   ]
  },
  {
   "cell_type": "code",
   "execution_count": 4,
   "metadata": {},
   "outputs": [],
   "source": [
    "from pyspark.sql import SparkSession\n",
    "\n",
    "# Create SparkSession\n",
    "spark = SparkSession.builder\\\n",
    "        .appName('fraud_detection')\\\n",
    "        .config(\"spark.jars\", \"E:\\spark-3.5.0-bin-hadoop3\\jars\\mysql-connector-j-8.1.0.jar\")\\\n",
    "        .getOrCreate()"
   ]
  },
  {
   "cell_type": "markdown",
   "metadata": {},
   "source": [
    "# Model training"
   ]
  },
  {
   "cell_type": "code",
   "execution_count": 5,
   "metadata": {},
   "outputs": [],
   "source": [
    "# Read from MySQL Table\n",
    "transDF = spark.read \\\n",
    "    .format(\"jdbc\") \\\n",
    "    .option(\"driver\",\"com.mysql.cj.jdbc.Driver\") \\\n",
    "    .option(\"url\", \"jdbc:mysql://localhost:3306/creditcard\") \\\n",
    "    .option(\"dbtable\", \"transaction\") \\\n",
    "    .option(\"user\", \"root\") \\\n",
    "    .option(\"password\", \"khang\") \\\n",
    "    .load()"
   ]
  },
  {
   "cell_type": "code",
   "execution_count": 6,
   "metadata": {},
   "outputs": [
    {
     "name": "stdout",
     "output_type": "stream",
     "text": [
      "+----------------+--------------------+-------------------+-------------------+--------------+---+--------------------+---------+----------+---+--------+--------+\n",
      "|          cc_num|           trans_num|         trans_date|         trans_time|      category|amt|            merchant|merch_lat|merch_long|age|distance|is_fraud|\n",
      "+----------------+--------------------+-------------------+-------------------+--------------+---+--------------------+---------+----------+---+--------+--------+\n",
      "|4641003399120410|a2de9ff6c581157f6...|2016-01-05 01:30:00|2024-01-23 20:54:01|      misc_pos|140|            Wiza LLC|42.168126|-92.149976| 39|  1.5E-4|       0|\n",
      "|4738555317386146|6938e448d7a51744c...|2012-01-16 01:30:00|2024-01-23 14:46:57|      misc_pos|230|         Block Group|34.899095|-87.758065| 30|  3.0E-4|       0|\n",
      "|    675985166411|7aa4ecc3c69a223d4...|2016-07-31 01:30:00|2024-01-23 22:13:18|health_fitness| 58|          Heller PLC|44.771892|-75.124947| 41|  1.4E-4|       0|\n",
      "|5264302655249852|738fe82839d73f5a0...|2012-01-08 01:30:00|2024-01-23 03:40:06|      misc_net|811|Kerluke, Kertzman...|33.092091|-89.183598| 88| 0.52205|       1|\n",
      "|4641003399120410|3dba76e37a738bd38...|2016-04-23 01:30:00|2024-01-23 18:35:59|   food_dining| 65|       OKeefe-Wisoky|42.161983|-92.169433| 39|  2.0E-5|       0|\n",
      "+----------------+--------------------+-------------------+-------------------+--------------+---+--------------------+---------+----------+---+--------+--------+\n",
      "only showing top 5 rows\n",
      "\n"
     ]
    }
   ],
   "source": [
    "transDF.show(5)"
   ]
  },
  {
   "cell_type": "code",
   "execution_count": 7,
   "metadata": {},
   "outputs": [],
   "source": [
    "testDF = spark.read.format(\"csv\").load(\"./test.csv\", header='True')"
   ]
  },
  {
   "cell_type": "code",
   "execution_count": 8,
   "metadata": {},
   "outputs": [
    {
     "name": "stdout",
     "output_type": "stream",
     "text": [
      "+----------------+---------+------+--------------------+--------------------+----------+----------+-------------+--------------------+---+---------+-----------+--------+\n",
      "|          cc_num|    first|  last|           trans_num|          trans_date|trans_time| unix_time|     category|            merchant|amt|merch_lat| merch_long|is_fraud|\n",
      "+----------------+---------+------+--------------------+--------------------+----------+----------+-------------+--------------------+---+---------+-----------+--------+\n",
      "|5157595343543285|Stephanie|Martin|65685514ff0d1c8c1...|2016-12-25T00:00:...|  19:44:51|1482695091|gas_transport|Schaefer, Maggio ...| 75|27.416029| -98.836205|       0|\n",
      "|   4483018920250|    Helen|Strong|a6563d05c87fb4e4a...|2017-01-11T00:00:...|  21:13:34|1484169214|  food_dining|Lesch, DAmore and...| 56|36.954036|-108.192545|       0|\n",
      "|4361646620879135| Kimberly|Hudson|19b76c72c860aa2a5...|2016-12-01T00:00:...|  23:16:52|1480634212|         home|Durgan, Gislason ...|449|40.097713| -73.577023|       1|\n",
      "|   4483018920250|    Helen|Strong|cbabd6726f33fd0ed...|2016-07-09T00:00:...|  23:30:38|1468107038|         home|          Renner Ltd|347|35.507304|-107.594906|       1|\n",
      "|   4483018920250|    Helen|Strong|74cb73906383d765b...|2017-01-04T00:00:...|  15:03:06|1483542186|entertainment|      Morissette LLC|147|36.966665|-108.172937|       0|\n",
      "+----------------+---------+------+--------------------+--------------------+----------+----------+-------------+--------------------+---+---------+-----------+--------+\n",
      "only showing top 5 rows\n",
      "\n"
     ]
    }
   ],
   "source": [
    "testDF.show(5)"
   ]
  },
  {
   "cell_type": "code",
   "execution_count": 9,
   "metadata": {},
   "outputs": [],
   "source": [
    "custDF = spark.read \\\n",
    "    .format(\"jdbc\") \\\n",
    "    .option(\"driver\",\"com.mysql.cj.jdbc.Driver\") \\\n",
    "    .option(\"url\", \"jdbc:mysql://localhost:3306/creditcard\") \\\n",
    "    .option(\"dbtable\", \"customer\") \\\n",
    "    .option(\"user\", \"root\") \\\n",
    "    .option(\"password\", \"khang\") \\\n",
    "    .load()"
   ]
  },
  {
   "cell_type": "code",
   "execution_count": 10,
   "metadata": {},
   "outputs": [
    {
     "name": "stdout",
     "output_type": "stream",
     "text": [
      "+---------------+----------+--------+------+--------------------+----------+-----+-----+-------+---------+--------------------+-------------------+\n",
      "|         cc_num|     first|    last|gender|              street|      city|state|  zip|    lat|     long|                 job|                dob|\n",
      "+---------------+----------+--------+------+--------------------+----------+-----+-----+-------+---------+--------------------+-------------------+\n",
      "|101331974127885|Georgeanna| D'Aulby|     F|     6 Stuart Circle|Clearwater|   FL|34620|27.9139| -82.7157| Electrical Engineer|1946-04-03 00:00:00|\n",
      "|103644429587006|     Davie|Chestnut|     M| 02 Crest Line Trail|   Visalia|   CA|93291|36.3551| -119.301| Marketing Assistant|1986-02-03 00:00:00|\n",
      "|119517748522380|   Randall|  d' Eye|     M|    415 Towne Center|     Boise|   ID|83727|43.4599| -116.244|    Registered Nurse|1988-05-15 00:00:00|\n",
      "|121937491260937|  Shepherd|  Dobble|     M|47668 Cottonwood ...| Las Vegas|   NV|89105| 36.086|-115.1471|Compensation Analyst|1972-09-27 00:00:00|\n",
      "|126560327838225|       Lib| Philpot|     F|  07411 Harper Court|      Erie|   PA|16522|42.1827| -80.0649|Human Resources M...|1955-11-12 00:00:00|\n",
      "+---------------+----------+--------+------+--------------------+----------+-----+-----+-------+---------+--------------------+-------------------+\n",
      "only showing top 5 rows\n",
      "\n"
     ]
    }
   ],
   "source": [
    "custDF.show(5)"
   ]
  },
  {
   "cell_type": "code",
   "execution_count": 11,
   "metadata": {},
   "outputs": [],
   "source": [
    "import pandas as pd \n",
    "\n",
    "from pyspark.ml.classification import LinearSVC, DecisionTreeClassifier\n",
    "\n",
    "from pyspark.ml.linalg import Vectors\n",
    "from pyspark.ml.feature import VectorAssembler\n",
    "from pyspark.ml import Pipeline\n",
    "\n",
    "from pyspark.sql.functions import isnan, when, count, col, length, expr\n",
    "from pyspark.ml.feature import Imputer\n",
    "from pyspark.ml.feature import StringIndexer, VectorIndexer, StringIndexerModel, IndexToString\n",
    "from pyspark.ml.evaluation import MulticlassClassificationEvaluator, BinaryClassificationEvaluator\n"
   ]
  },
  {
   "cell_type": "code",
   "execution_count": 12,
   "metadata": {},
   "outputs": [],
   "source": [
    "transDF = transDF.withColumn(\"trans_date\", col(\"trans_date\").substr(1, 10))\n",
    "transDF = transDF.withColumn(\"trans_date\", col(\"trans_date\").cast(\"string\"))\n",
    "transDF1 = transDF.withColumn(\"trans_time\", col(\"trans_time\").substr(12, 19))\n",
    "transDF1 = transDF1.withColumn(\"trans_time\", col(\"trans_time\").cast(\"string\"))\n",
    "transDF1 = transDF1.drop(\"merchant\", \"merch_lat\", \"merch_long\")"
   ]
  },
  {
   "cell_type": "code",
   "execution_count": 13,
   "metadata": {},
   "outputs": [
    {
     "name": "stdout",
     "output_type": "stream",
     "text": [
      "+----------------+--------------------+----------+----------+--------------+---+---+--------+--------+\n",
      "|          cc_num|           trans_num|trans_date|trans_time|      category|amt|age|distance|is_fraud|\n",
      "+----------------+--------------------+----------+----------+--------------+---+---+--------+--------+\n",
      "|4641003399120410|a2de9ff6c581157f6...|2016-01-05|  20:54:01|      misc_pos|140| 39|  1.5E-4|       0|\n",
      "|4738555317386146|6938e448d7a51744c...|2012-01-16|  14:46:57|      misc_pos|230| 30|  3.0E-4|       0|\n",
      "|    675985166411|7aa4ecc3c69a223d4...|2016-07-31|  22:13:18|health_fitness| 58| 41|  1.4E-4|       0|\n",
      "|5264302655249852|738fe82839d73f5a0...|2012-01-08|  03:40:06|      misc_net|811| 88| 0.52205|       1|\n",
      "|4641003399120410|3dba76e37a738bd38...|2016-04-23|  18:35:59|   food_dining| 65| 39|  2.0E-5|       0|\n",
      "+----------------+--------------------+----------+----------+--------------+---+---+--------+--------+\n",
      "only showing top 5 rows\n",
      "\n"
     ]
    }
   ],
   "source": [
    "transDF1.show(5)"
   ]
  },
  {
   "cell_type": "code",
   "execution_count": 14,
   "metadata": {},
   "outputs": [
    {
     "name": "stdout",
     "output_type": "stream",
     "text": [
      "+------+---------+----------+----------+--------+---+---+--------+--------+\n",
      "|cc_num|trans_num|trans_date|trans_time|category|amt|age|distance|is_fraud|\n",
      "+------+---------+----------+----------+--------+---+---+--------+--------+\n",
      "|     0|        0|         0|         0|       0|  0|  0|       0|       0|\n",
      "+------+---------+----------+----------+--------+---+---+--------+--------+\n",
      "\n"
     ]
    }
   ],
   "source": [
    "transDF1.select([count(when(isnan(c) | col(c).isNull(), c)).alias(c) for c in transDF1.columns]).show()"
   ]
  },
  {
   "cell_type": "code",
   "execution_count": 15,
   "metadata": {},
   "outputs": [],
   "source": [
    "trans_dateIndexer = StringIndexer(inputCol=\"trans_date\", outputCol=\"indexedtrans_date\", handleInvalid=\"keep\")\n",
    "trans_timeIndexer = StringIndexer(inputCol=\"trans_time\", outputCol=\"indexedtrans_time\", handleInvalid=\"keep\")\n",
    "categoryIndexer = StringIndexer(inputCol=\"category\", outputCol=\"indexedcategory\", handleInvalid=\"keep\")"
   ]
  },
  {
   "cell_type": "code",
   "execution_count": 16,
   "metadata": {},
   "outputs": [],
   "source": [
    "trainDF = trans_dateIndexer.fit(transDF1).transform(transDF1)\n",
    "trainDF = trans_timeIndexer.fit(trainDF).transform(trainDF)\n",
    "trainDF = categoryIndexer.fit(trainDF).transform(trainDF)"
   ]
  },
  {
   "cell_type": "code",
   "execution_count": 17,
   "metadata": {},
   "outputs": [
    {
     "name": "stdout",
     "output_type": "stream",
     "text": [
      "+----------------+--------------------+----------+----------+--------------+---+---+--------+--------+-----------------+-----------------+---------------+\n",
      "|          cc_num|           trans_num|trans_date|trans_time|      category|amt|age|distance|is_fraud|indexedtrans_date|indexedtrans_time|indexedcategory|\n",
      "+----------------+--------------------+----------+----------+--------------+---+---+--------+--------+-----------------+-----------------+---------------+\n",
      "|4641003399120410|a2de9ff6c581157f6...|2016-01-05|  20:54:01|      misc_pos|140| 39|  1.5E-4|       0|            354.0|           9457.0|            7.0|\n",
      "|4738555317386146|6938e448d7a51744c...|2012-01-16|  14:46:57|      misc_pos|230| 30|  3.0E-4|       0|             42.0|           5981.0|            7.0|\n",
      "|    675985166411|7aa4ecc3c69a223d4...|2016-07-31|  22:13:18|health_fitness| 58| 41|  1.4E-4|       0|             91.0|          10207.0|           10.0|\n",
      "|5264302655249852|738fe82839d73f5a0...|2012-01-08|  03:40:06|      misc_net|811| 88| 0.52205|       1|              2.0|           2049.0|           11.0|\n",
      "|4641003399120410|3dba76e37a738bd38...|2016-04-23|  18:35:59|   food_dining| 65| 39|  2.0E-5|       0|            222.0|           8154.0|            8.0|\n",
      "+----------------+--------------------+----------+----------+--------------+---+---+--------+--------+-----------------+-----------------+---------------+\n",
      "only showing top 5 rows\n",
      "\n"
     ]
    }
   ],
   "source": [
    "trainDF.show(5)"
   ]
  },
  {
   "cell_type": "code",
   "execution_count": 18,
   "metadata": {},
   "outputs": [
    {
     "name": "stdout",
     "output_type": "stream",
     "text": [
      "+----------------+--------------------+----------+----------+--------+---+---+--------+--------+-----------------+-----------------+---------------+--------------------+\n",
      "|          cc_num|           trans_num|trans_date|trans_time|category|amt|age|distance|is_fraud|indexedtrans_date|indexedtrans_time|indexedcategory|            features|\n",
      "+----------------+--------------------+----------+----------+--------+---+---+--------+--------+-----------------+-----------------+---------------+--------------------+\n",
      "|4641003399120410|a2de9ff6c581157f6...|2016-01-05|  20:54:01|misc_pos|140| 39|  1.5E-4|       0|            354.0|           9457.0|            7.0|[140.0,39.0,1.5E-...|\n",
      "|4738555317386146|6938e448d7a51744c...|2012-01-16|  14:46:57|misc_pos|230| 30|  3.0E-4|       0|             42.0|           5981.0|            7.0|[230.0,30.0,3.0E-...|\n",
      "+----------------+--------------------+----------+----------+--------+---+---+--------+--------+-----------------+-----------------+---------------+--------------------+\n",
      "only showing top 2 rows\n",
      "\n"
     ]
    }
   ],
   "source": [
    "inputFeatures = ['amt',\n",
    "                 'age',\n",
    "                 'distance',\n",
    "                 'indexedtrans_date',\n",
    "                 'indexedtrans_time',\n",
    "                 'indexedcategory',]\n",
    "assembler = VectorAssembler(inputCols=inputFeatures,outputCol=\"features\")\n",
    "df1 = assembler.transform(trainDF)\n",
    "df1.show(2)"
   ]
  },
  {
   "cell_type": "code",
   "execution_count": 19,
   "metadata": {},
   "outputs": [
    {
     "name": "stdout",
     "output_type": "stream",
     "text": [
      "+--------------------+--------+\n",
      "|            features|is_fraud|\n",
      "+--------------------+--------+\n",
      "|[140.0,39.0,1.5E-...|       0|\n",
      "|[230.0,30.0,3.0E-...|       0|\n",
      "+--------------------+--------+\n",
      "only showing top 2 rows\n",
      "\n"
     ]
    }
   ],
   "source": [
    "df2 = df1.select(['features', 'is_fraud'])\n",
    "df2.show(2)"
   ]
  },
  {
   "cell_type": "code",
   "execution_count": 20,
   "metadata": {},
   "outputs": [],
   "source": [
    "# svm = LinearSVC(featuresCol=\"features\", labelCol=\"is_fraud\", maxIter=1000, regParam=0.3)\n",
    "# svm_model = svm.fit(df2)"
   ]
  },
  {
   "cell_type": "code",
   "execution_count": 21,
   "metadata": {},
   "outputs": [],
   "source": [
    "dt = DecisionTreeClassifier(featuresCol=\"features\", labelCol=\"is_fraud\", maxBins=12473)\n",
    "dt_model = dt.fit(df2)"
   ]
  },
  {
   "cell_type": "code",
   "execution_count": 22,
   "metadata": {},
   "outputs": [],
   "source": [
    "# pipeline = Pipeline(stages = [trans_dateIndexer, trans_timeIndexer, categoryIndexer, assembler, svm])"
   ]
  },
  {
   "cell_type": "code",
   "execution_count": 23,
   "metadata": {},
   "outputs": [],
   "source": [
    "pipeline1 = Pipeline(stages = [trans_dateIndexer, trans_timeIndexer, categoryIndexer, assembler, dt])"
   ]
  },
  {
   "cell_type": "code",
   "execution_count": 24,
   "metadata": {},
   "outputs": [
    {
     "name": "stdout",
     "output_type": "stream",
     "text": [
      "root\n",
      " |-- cc_num: long (nullable = true)\n",
      " |-- trans_num: string (nullable = true)\n",
      " |-- trans_date: string (nullable = true)\n",
      " |-- trans_time: string (nullable = true)\n",
      " |-- category: string (nullable = true)\n",
      " |-- amt: integer (nullable = true)\n",
      " |-- age: integer (nullable = true)\n",
      " |-- distance: double (nullable = true)\n",
      " |-- is_fraud: integer (nullable = true)\n",
      "\n"
     ]
    }
   ],
   "source": [
    "transDF1.printSchema()"
   ]
  },
  {
   "cell_type": "code",
   "execution_count": 25,
   "metadata": {},
   "outputs": [],
   "source": [
    "# pipeline_model = pipeline.fit(transDF1)"
   ]
  },
  {
   "cell_type": "code",
   "execution_count": 26,
   "metadata": {},
   "outputs": [],
   "source": [
    "pipeline1_model = pipeline1.fit(transDF1)"
   ]
  },
  {
   "cell_type": "markdown",
   "metadata": {},
   "source": [
    "# Model Testing"
   ]
  },
  {
   "cell_type": "code",
   "execution_count": 27,
   "metadata": {},
   "outputs": [],
   "source": [
    "# testDF = testDF.join(custDF, on=['cc_num', 'first', 'last'], how='inner')\n",
    "# testDF = testDF.withColumn(\"age\", substring(col(\"trans_date\"), 1, 4).cast(\"int\") - substring(col(\"dob\"), 1, 4).cast(\"int\"))\n",
    "# testDF = testDF.withColumn(\"distance\", round(calculate_distance(col(\"merch_lat\").cast(\"double\"), col(\"merch_long\").cast(\"double\"), col(\"lat\").cast(\"double\"), col(\"long\").cast(\"double\")), 5))\n",
    "# testDF = testDF.withColumn(\"amt\", col(\"amt\").cast(\"int\"))\n",
    "# testDF = testDF.withColumn(\"cc_num\", col(\"cc_num\").cast(\"long\"))\n",
    "# testDF = testDF.withColumn(\"is_fraud\", col(\"is_fraud\").cast(\"int\"))\n",
    "# test_predict = pipeline1_model.transform(testDF)"
   ]
  },
  {
   "cell_type": "code",
   "execution_count": 28,
   "metadata": {},
   "outputs": [],
   "source": [
    "# test_predict.show(5)"
   ]
  },
  {
   "cell_type": "code",
   "execution_count": 29,
   "metadata": {},
   "outputs": [],
   "source": [
    "# evaluator = BinaryClassificationEvaluator(labelCol=\"is_fraud\", rawPredictionCol=\"prediction\", metricName=\"areaUnderPR\")\n",
    "# auc_pr = evaluator.evaluate(test_predict)\n",
    "# auc_pr"
   ]
  },
  {
   "cell_type": "code",
   "execution_count": 30,
   "metadata": {},
   "outputs": [],
   "source": [
    "# evaluator = BinaryClassificationEvaluator(labelCol=\"is_fraud\", rawPredictionCol=\"prediction\", metricName=\"areaUnderROC\")\n",
    "# auc = evaluator.evaluate(test_predict)\n",
    "# auc"
   ]
  },
  {
   "cell_type": "code",
   "execution_count": 31,
   "metadata": {},
   "outputs": [],
   "source": [
    "# evaluator = MulticlassClassificationEvaluator(labelCol=\"is_fraud\", predictionCol=\"prediction\", metricName=\"accuracy\")\n",
    "# accuracy = evaluator.evaluate(test_predict)\n",
    "# accuracy"
   ]
  },
  {
   "cell_type": "code",
   "execution_count": null,
   "metadata": {},
   "outputs": [],
   "source": [
    "pipeline1_model.save('./pipeline1_model')"
   ]
  },
  {
   "cell_type": "markdown",
   "metadata": {},
   "source": [
    "# Consumer"
   ]
  },
  {
   "cell_type": "code",
   "execution_count": null,
   "metadata": {},
   "outputs": [],
   "source": [
    "import pandas as pd\n",
    "def json_to_dataframe(json_data):\n",
    "    pd_df = pd.DataFrame([json.loads(json_data)])\n",
    "    spark_df = spark.createDataFrame(pd_df)\n",
    "    return spark_df"
   ]
  },
  {
   "cell_type": "code",
   "execution_count": null,
   "metadata": {},
   "outputs": [],
   "source": [
    "from kafka import KafkaConsumer\n",
    "import json\n",
    "\n",
    "KAFKA_TOPIC_NAME = 'Fraud-detection'\n",
    "KAFKA_BOOTSTRAP_SERVERS = 'localhost:9092'\n",
    "\n",
    "consumer = KafkaConsumer(KAFKA_TOPIC_NAME, bootstrap_servers=KAFKA_BOOTSTRAP_SERVERS)\n",
    "print(\"Kafka Consumer Application Started ... \")\n",
    "for msg in consumer:\n",
    "    try:\n",
    "        spark_df = json_to_dataframe(msg.value.decode('utf-8'))\n",
    "        cc_no = spark_df.toPandas()['cc_num'][0]\n",
    "        query_df = custDF.where(f'cc_num == {cc_no}')\n",
    "        joinedDF = spark_df.join(query_df, on=['cc_num'], how='inner')\n",
    "        joinedDF = joinedDF.withColumn(\"trans_date\", substring(col(\"trans_date\"), 1, 10).cast(\"string\"))\n",
    "        joinedDF = joinedDF.withColumn(\"age\", substring(col(\"trans_date\"), 1, 4).cast(\"int\") - substring(col(\"dob\"), 1, 4).cast(\"int\"))\n",
    "        joinedDF = joinedDF.withColumn(\"distance\", round(calculate_distance(col(\"merch_lat\").cast(\"double\"), col(\"merch_long\").cast(\"double\"), col(\"lat\").cast(\"double\"), col(\"long\").cast(\"double\")), 5))\n",
    "        joinedDF = joinedDF.withColumn(\"amt\", col(\"amt\").cast(\"int\"))\n",
    "        joinedDF = joinedDF.withColumn(\"cc_num\", col(\"cc_num\").cast(\"long\"))\n",
    "        spark_df = joinedDF.select(\"cc_num\", \"trans_num\", \"trans_date\", \"trans_time\", \"category\", \"amt\", \"age\", \"distance\")\n",
    "        result_df = pipeline1_model.transform(spark_df)\n",
    "        result_df = result_df.select(\"cc_num\", \"trans_num\", \"trans_date\", \"trans_time\", \"category\", \"amt\", \"age\", \"distance\", col(\"prediction\").alias(\"is_fraud\"))\n",
    "        print(result_df.toPandas().to_string(index=False, header=False))\n",
    "\n",
    "        result_df.write \\\n",
    "            .format(\"jdbc\") \\\n",
    "            .option(\"driver\",\"com.mysql.jdbc.Driver\") \\\n",
    "            .option(\"url\", \"jdbc:mysql://localhost:3306/creditcard\") \\\n",
    "            .option(\"dbtable\", \"new_transaction\") \\\n",
    "            .option(\"user\", \"root\") \\\n",
    "            .option(\"password\", \"khang\") \\\n",
    "            .mode(\"append\") \\\n",
    "            .save()\n",
    "    except KeyboardInterrupt:\n",
    "        print('break')\n",
    "        break\n",
    "print(\"Kafka Consumer Application Completed. \")"
   ]
  }
 ],
 "metadata": {
  "kernelspec": {
   "display_name": "Python 3",
   "language": "python",
   "name": "python3"
  },
  "language_info": {
   "codemirror_mode": {
    "name": "ipython",
    "version": 3
   },
   "file_extension": ".py",
   "mimetype": "text/x-python",
   "name": "python",
   "nbconvert_exporter": "python",
   "pygments_lexer": "ipython3",
   "version": "3.10.1"
  }
 },
 "nbformat": 4,
 "nbformat_minor": 2
}
