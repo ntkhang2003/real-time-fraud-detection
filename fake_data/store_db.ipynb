{
 "cells": [
  {
   "cell_type": "code",
   "execution_count": 1,
   "metadata": {},
   "outputs": [],
   "source": [
    "import findspark\n",
    "findspark.init()\n",
    "import pyspark"
   ]
  },
  {
   "cell_type": "code",
   "execution_count": 2,
   "metadata": {},
   "outputs": [],
   "source": [
    "from pyspark.sql.functions import col, substring, round\n",
    "from pyspark.sql.types import VarcharType, TimestampType, IntegerType, DoubleType"
   ]
  },
  {
   "cell_type": "code",
   "execution_count": 3,
   "metadata": {},
   "outputs": [],
   "source": [
    "def calculate_distance(lat1, lon1, lat2, lon2):\n",
    "    return ((lat2 - lat1)**2 + (lon2 - lon1)**2)**1/2"
   ]
  },
  {
   "cell_type": "code",
   "execution_count": 4,
   "metadata": {},
   "outputs": [],
   "source": [
    "from pyspark.sql import SparkSession\n",
    "\n",
    "# Create SparkSession\n",
    "spark = SparkSession.builder\\\n",
    "        .appName('fraud_detection')\\\n",
    "        .config(\"spark.jars\", \"E:\\spark-3.5.0-bin-hadoop3\\jars\\mysql-connector-j-8.1.0.jar\")\\\n",
    "        .getOrCreate()"
   ]
  },
  {
   "cell_type": "code",
   "execution_count": 5,
   "metadata": {},
   "outputs": [],
   "source": [
    "trans = spark.read.format(\"csv\").load(\"./train.csv\", header='True', inferSchema='True')\n",
    "cust = spark.read.format(\"csv\").load(\"./customer.csv\", header='True')"
   ]
  },
  {
   "cell_type": "code",
   "execution_count": 6,
   "metadata": {},
   "outputs": [
    {
     "name": "stdout",
     "output_type": "stream",
     "text": [
      "root\n",
      " |-- cc_num: long (nullable = true)\n",
      " |-- first: string (nullable = true)\n",
      " |-- last: string (nullable = true)\n",
      " |-- trans_num: string (nullable = true)\n",
      " |-- trans_date: timestamp (nullable = true)\n",
      " |-- trans_time: timestamp (nullable = true)\n",
      " |-- unix_time: integer (nullable = true)\n",
      " |-- category: string (nullable = true)\n",
      " |-- merchant: string (nullable = true)\n",
      " |-- amt: integer (nullable = true)\n",
      " |-- merch_lat: double (nullable = true)\n",
      " |-- merch_long: double (nullable = true)\n",
      " |-- is_fraud: integer (nullable = true)\n",
      "\n"
     ]
    }
   ],
   "source": [
    "trans.printSchema()"
   ]
  },
  {
   "cell_type": "code",
   "execution_count": 7,
   "metadata": {},
   "outputs": [
    {
     "name": "stdout",
     "output_type": "stream",
     "text": [
      "root\n",
      " |-- cc_num: string (nullable = true)\n",
      " |-- first: string (nullable = true)\n",
      " |-- last: string (nullable = true)\n",
      " |-- gender: string (nullable = true)\n",
      " |-- street: string (nullable = true)\n",
      " |-- city: string (nullable = true)\n",
      " |-- state: string (nullable = true)\n",
      " |-- zip: string (nullable = true)\n",
      " |-- lat: string (nullable = true)\n",
      " |-- long: string (nullable = true)\n",
      " |-- job: string (nullable = true)\n",
      " |-- dob: string (nullable = true)\n",
      "\n"
     ]
    }
   ],
   "source": [
    "cust.printSchema()"
   ]
  },
  {
   "cell_type": "code",
   "execution_count": 8,
   "metadata": {},
   "outputs": [
    {
     "name": "stdout",
     "output_type": "stream",
     "text": [
      "+----------------+-------+--------+--------------------+-------------------+-------------------+----------+--------------+--------------------+---+---------+----------+--------+\n",
      "|          cc_num|  first|    last|           trans_num|         trans_date|         trans_time| unix_time|      category|            merchant|amt|merch_lat|merch_long|is_fraud|\n",
      "+----------------+-------+--------+--------------------+-------------------+-------------------+----------+--------------+--------------------+---+---------+----------+--------+\n",
      "|4641003399120410|Tiffany| Russell|a2de9ff6c581157f6...|2016-01-05 01:30:00|2024-01-23 20:54:01|1452027241|      misc_pos|            Wiza LLC|140|42.168126|-92.149976|       0|\n",
      "|4738555317386146|   John|Peterson|6938e448d7a51744c...|2012-01-16 01:30:00|2024-01-23 14:46:57|1326725217|      misc_pos|         Block Group|230|34.899095|-87.758065|       0|\n",
      "|    675985166411|Rebecca|   Brown|7aa4ecc3c69a223d4...|2016-07-31 01:30:00|2024-01-23 22:13:18|1470003198|health_fitness|          Heller PLC| 58|44.771892|-75.124947|       0|\n",
      "|5264302655249852| Daniel|   Perry|738fe82839d73f5a0...|2012-01-08 01:30:00|2024-01-23 03:40:06|1325994006|      misc_net|Kerluke, Kertzman...|811|33.092091|-89.183598|       1|\n",
      "|4641003399120410|Tiffany| Russell|3dba76e37a738bd38...|2016-04-23 01:30:00|2024-01-23 18:35:59|1461436559|   food_dining|       OKeefe-Wisoky| 65|42.161983|-92.169433|       0|\n",
      "+----------------+-------+--------+--------------------+-------------------+-------------------+----------+--------------+--------------------+---+---------+----------+--------+\n",
      "only showing top 5 rows\n",
      "\n"
     ]
    }
   ],
   "source": [
    "trans.show(5)"
   ]
  },
  {
   "cell_type": "code",
   "execution_count": 9,
   "metadata": {},
   "outputs": [
    {
     "name": "stdout",
     "output_type": "stream",
     "text": [
      "+---------------+----------+--------+------+--------------------+----------+-----+-----+-------+---------+--------------------+-------------------+\n",
      "|         cc_num|     first|    last|gender|              street|      city|state|  zip|    lat|     long|                 job|                dob|\n",
      "+---------------+----------+--------+------+--------------------+----------+-----+-----+-------+---------+--------------------+-------------------+\n",
      "|101331974127885|Georgeanna| D'Aulby|     F|     6 Stuart Circle|Clearwater|   FL|34620|27.9139| -82.7157| Electrical Engineer|1946-04-03 00:00:00|\n",
      "|103644429587006|     Davie|Chestnut|     M| 02 Crest Line Trail|   Visalia|   CA|93291|36.3551| -119.301| Marketing Assistant|1986-02-03 00:00:00|\n",
      "|119517748522380|   Randall|  d' Eye|     M|    415 Towne Center|     Boise|   ID|83727|43.4599| -116.244|    Registered Nurse|1988-05-15 00:00:00|\n",
      "|121937491260937|  Shepherd|  Dobble|     M|47668 Cottonwood ...| Las Vegas|   NV|89105| 36.086|-115.1471|Compensation Analyst|1972-09-27 00:00:00|\n",
      "|126560327838225|       Lib| Philpot|     F|  07411 Harper Court|      Erie|   PA|16522|42.1827| -80.0649|Human Resources M...|1955-11-12 00:00:00|\n",
      "+---------------+----------+--------+------+--------------------+----------+-----+-----+-------+---------+--------------------+-------------------+\n",
      "only showing top 5 rows\n",
      "\n"
     ]
    }
   ],
   "source": [
    "cust.show(5)"
   ]
  },
  {
   "cell_type": "code",
   "execution_count": 10,
   "metadata": {},
   "outputs": [],
   "source": [
    "joinedDF = trans.join(cust, on=['cc_num', 'first', 'last'], how='inner')"
   ]
  },
  {
   "cell_type": "code",
   "execution_count": 11,
   "metadata": {},
   "outputs": [
    {
     "name": "stdout",
     "output_type": "stream",
     "text": [
      "+----------------+-------+--------+--------------------+-------------------+-------------------+----------+--------------+--------------------+---+---------+----------+--------+------+--------------------+--------+-----+-----+-------+--------+--------------------+-------------------+\n",
      "|          cc_num|  first|    last|           trans_num|         trans_date|         trans_time| unix_time|      category|            merchant|amt|merch_lat|merch_long|is_fraud|gender|              street|    city|state|  zip|    lat|    long|                 job|                dob|\n",
      "+----------------+-------+--------+--------------------+-------------------+-------------------+----------+--------------+--------------------+---+---------+----------+--------+------+--------------------+--------+-----+-----+-------+--------+--------------------+-------------------+\n",
      "|4641003399120410|Tiffany| Russell|a2de9ff6c581157f6...|2016-01-05 01:30:00|2024-01-23 20:54:01|1452027241|      misc_pos|            Wiza LLC|140|42.168126|-92.149976|       0|     F|51848 Brittany Hi...|Garrison|   IA|52229|42.1588|-92.1644|Human resources o...|1977-05-06 14:30:00|\n",
      "|4738555317386146|   John|Peterson|6938e448d7a51744c...|2012-01-16 01:30:00|2024-01-23 14:46:57|1326725217|      misc_pos|         Block Group|230|34.899095|-87.758065|       0|     M|  11713 Melissa Isle|Florence|   AL|35633|34.8825|-87.7398|           Osteopath|1982-03-16 13:30:00|\n",
      "|    675985166411|Rebecca|   Brown|7aa4ecc3c69a223d4...|2016-07-31 01:30:00|2024-01-23 22:13:18|1470003198|health_fitness|          Heller PLC| 58|44.771892|-75.124947|       0|     F|4211 Sanders Orch...|  Madrid|   NY|13660| 44.769|-75.1413|   Building surveyor|1975-12-18 13:30:00|\n",
      "|5264302655249852| Daniel|   Perry|738fe82839d73f5a0...|2012-01-08 01:30:00|2024-01-23 03:40:06|1325994006|      misc_net|Kerluke, Kertzman...|811|33.092091|-89.183598|       1|     M|756 Benjamin Lock...|Hamilton|   MS|39746|33.8011|-88.4478|Engineer, control...|1924-06-20 14:07:00|\n",
      "|4641003399120410|Tiffany| Russell|3dba76e37a738bd38...|2016-04-23 01:30:00|2024-01-23 18:35:59|1461436559|   food_dining|       OKeefe-Wisoky| 65|42.161983|-92.169433|       0|     F|51848 Brittany Hi...|Garrison|   IA|52229|42.1588|-92.1644|Human resources o...|1977-05-06 14:30:00|\n",
      "+----------------+-------+--------+--------------------+-------------------+-------------------+----------+--------------+--------------------+---+---------+----------+--------+------+--------------------+--------+-----+-----+-------+--------+--------------------+-------------------+\n",
      "only showing top 5 rows\n",
      "\n"
     ]
    }
   ],
   "source": [
    "joinedDF.show(5)"
   ]
  },
  {
   "cell_type": "code",
   "execution_count": 12,
   "metadata": {},
   "outputs": [],
   "source": [
    "joinedDF = joinedDF.withColumn(\"age\", substring(col(\"trans_date\"), 1, 4).cast(\"int\") - substring(col(\"dob\"), 1, 4).cast(\"int\"))\n",
    "joinedDF = joinedDF.withColumn(\"distance\", round(calculate_distance(col(\"merch_lat\").cast(\"double\"), col(\"merch_long\").cast(\"double\"), col(\"lat\").cast(\"double\"), col(\"long\").cast(\"double\")), 5))\n"
   ]
  },
  {
   "cell_type": "code",
   "execution_count": 13,
   "metadata": {},
   "outputs": [
    {
     "name": "stdout",
     "output_type": "stream",
     "text": [
      "+----------------+-------+--------+--------------------+-------------------+-------------------+----------+--------------+--------------------+---+---------+----------+--------+------+--------------------+--------+-----+-----+-------+--------+--------------------+-------------------+---+--------+\n",
      "|          cc_num|  first|    last|           trans_num|         trans_date|         trans_time| unix_time|      category|            merchant|amt|merch_lat|merch_long|is_fraud|gender|              street|    city|state|  zip|    lat|    long|                 job|                dob|age|distance|\n",
      "+----------------+-------+--------+--------------------+-------------------+-------------------+----------+--------------+--------------------+---+---------+----------+--------+------+--------------------+--------+-----+-----+-------+--------+--------------------+-------------------+---+--------+\n",
      "|4641003399120410|Tiffany| Russell|a2de9ff6c581157f6...|2016-01-05 01:30:00|2024-01-23 20:54:01|1452027241|      misc_pos|            Wiza LLC|140|42.168126|-92.149976|       0|     F|51848 Brittany Hi...|Garrison|   IA|52229|42.1588|-92.1644|Human resources o...|1977-05-06 14:30:00| 39|  1.5E-4|\n",
      "|4738555317386146|   John|Peterson|6938e448d7a51744c...|2012-01-16 01:30:00|2024-01-23 14:46:57|1326725217|      misc_pos|         Block Group|230|34.899095|-87.758065|       0|     M|  11713 Melissa Isle|Florence|   AL|35633|34.8825|-87.7398|           Osteopath|1982-03-16 13:30:00| 30|  3.0E-4|\n",
      "|    675985166411|Rebecca|   Brown|7aa4ecc3c69a223d4...|2016-07-31 01:30:00|2024-01-23 22:13:18|1470003198|health_fitness|          Heller PLC| 58|44.771892|-75.124947|       0|     F|4211 Sanders Orch...|  Madrid|   NY|13660| 44.769|-75.1413|   Building surveyor|1975-12-18 13:30:00| 41|  1.4E-4|\n",
      "|5264302655249852| Daniel|   Perry|738fe82839d73f5a0...|2012-01-08 01:30:00|2024-01-23 03:40:06|1325994006|      misc_net|Kerluke, Kertzman...|811|33.092091|-89.183598|       1|     M|756 Benjamin Lock...|Hamilton|   MS|39746|33.8011|-88.4478|Engineer, control...|1924-06-20 14:07:00| 88| 0.52205|\n",
      "|4641003399120410|Tiffany| Russell|3dba76e37a738bd38...|2016-04-23 01:30:00|2024-01-23 18:35:59|1461436559|   food_dining|       OKeefe-Wisoky| 65|42.161983|-92.169433|       0|     F|51848 Brittany Hi...|Garrison|   IA|52229|42.1588|-92.1644|Human resources o...|1977-05-06 14:30:00| 39|  2.0E-5|\n",
      "+----------------+-------+--------+--------------------+-------------------+-------------------+----------+--------------+--------------------+---+---------+----------+--------+------+--------------------+--------+-----+-----+-------+--------+--------------------+-------------------+---+--------+\n",
      "only showing top 5 rows\n",
      "\n"
     ]
    }
   ],
   "source": [
    "joinedDF.show(5)"
   ]
  },
  {
   "cell_type": "code",
   "execution_count": 14,
   "metadata": {},
   "outputs": [],
   "source": [
    "transDF = joinedDF.select(\"cc_num\", \"trans_num\", \"trans_date\", \"trans_time\", \"category\", \"amt\", \"merchant\", \"merch_lat\", \"merch_long\", \"age\", \"distance\", \"is_fraud\")"
   ]
  },
  {
   "cell_type": "code",
   "execution_count": 15,
   "metadata": {},
   "outputs": [],
   "source": [
    "# transDF = joinedDF.select(\n",
    "#     (joinedDF.cc_num.cast(VarcharType(255))),\n",
    "#     (joinedDF.trans_num.cast(VarcharType(255))),\n",
    "#     (joinedDF.trans_date.cast(TimestampType())),\n",
    "#     (joinedDF.trans_time.cast(TimestampType())),\n",
    "#     (joinedDF.category.cast(VarcharType(255))),\n",
    "#     (joinedDF.merchant.cast(VarcharType(255))),\n",
    "#     (joinedDF.amt.cast(DoubleType())),\n",
    "#     (joinedDF.merch_lat.cast(DoubleType())),\n",
    "#     (joinedDF.merch_long.cast(DoubleType())),\n",
    "#     (joinedDF.distance.cast(DoubleType())),\n",
    "#     (joinedDF.age.cast(IntegerType())),\n",
    "#     (joinedDF.is_fraud.cast(IntegerType()))\n",
    "# )"
   ]
  },
  {
   "cell_type": "code",
   "execution_count": 16,
   "metadata": {},
   "outputs": [
    {
     "name": "stdout",
     "output_type": "stream",
     "text": [
      "+----------------+--------------------+-------------------+-------------------+--------------+---+--------------------+---------+----------+---+--------+--------+\n",
      "|          cc_num|           trans_num|         trans_date|         trans_time|      category|amt|            merchant|merch_lat|merch_long|age|distance|is_fraud|\n",
      "+----------------+--------------------+-------------------+-------------------+--------------+---+--------------------+---------+----------+---+--------+--------+\n",
      "|4641003399120410|a2de9ff6c581157f6...|2016-01-05 01:30:00|2024-01-23 20:54:01|      misc_pos|140|            Wiza LLC|42.168126|-92.149976| 39|  1.5E-4|       0|\n",
      "|4738555317386146|6938e448d7a51744c...|2012-01-16 01:30:00|2024-01-23 14:46:57|      misc_pos|230|         Block Group|34.899095|-87.758065| 30|  3.0E-4|       0|\n",
      "|    675985166411|7aa4ecc3c69a223d4...|2016-07-31 01:30:00|2024-01-23 22:13:18|health_fitness| 58|          Heller PLC|44.771892|-75.124947| 41|  1.4E-4|       0|\n",
      "|5264302655249852|738fe82839d73f5a0...|2012-01-08 01:30:00|2024-01-23 03:40:06|      misc_net|811|Kerluke, Kertzman...|33.092091|-89.183598| 88| 0.52205|       1|\n",
      "|4641003399120410|3dba76e37a738bd38...|2016-04-23 01:30:00|2024-01-23 18:35:59|   food_dining| 65|       OKeefe-Wisoky|42.161983|-92.169433| 39|  2.0E-5|       0|\n",
      "+----------------+--------------------+-------------------+-------------------+--------------+---+--------------------+---------+----------+---+--------+--------+\n",
      "only showing top 5 rows\n",
      "\n"
     ]
    }
   ],
   "source": [
    "transDF.show(5)"
   ]
  },
  {
   "cell_type": "code",
   "execution_count": 17,
   "metadata": {},
   "outputs": [
    {
     "name": "stdout",
     "output_type": "stream",
     "text": [
      "root\n",
      " |-- cc_num: long (nullable = true)\n",
      " |-- trans_num: string (nullable = true)\n",
      " |-- trans_date: timestamp (nullable = true)\n",
      " |-- trans_time: timestamp (nullable = true)\n",
      " |-- category: string (nullable = true)\n",
      " |-- amt: integer (nullable = true)\n",
      " |-- merchant: string (nullable = true)\n",
      " |-- merch_lat: double (nullable = true)\n",
      " |-- merch_long: double (nullable = true)\n",
      " |-- age: integer (nullable = true)\n",
      " |-- distance: double (nullable = true)\n",
      " |-- is_fraud: integer (nullable = true)\n",
      "\n"
     ]
    }
   ],
   "source": [
    "transDF.printSchema()"
   ]
  },
  {
   "cell_type": "code",
   "execution_count": 18,
   "metadata": {},
   "outputs": [],
   "source": [
    "# Write to MySQL Table\n",
    "transDF.write \\\n",
    "    .format(\"jdbc\") \\\n",
    "    .option(\"driver\",\"com.mysql.jdbc.Driver\") \\\n",
    "    .option(\"url\", \"jdbc:mysql://localhost:3306/creditcard\") \\\n",
    "    .option(\"dbtable\", \"transaction\") \\\n",
    "    .option(\"user\", \"root\") \\\n",
    "    .option(\"password\", \"khang\") \\\n",
    "    .mode(\"overwrite\") \\\n",
    "    .save()"
   ]
  },
  {
   "cell_type": "code",
   "execution_count": null,
   "metadata": {},
   "outputs": [],
   "source": [
    "# Write to MySQL Table\n",
    "cust.write \\\n",
    "    .format(\"jdbc\") \\\n",
    "    .option(\"driver\",\"com.mysql.jdbc.Driver\") \\\n",
    "    .option(\"url\", \"jdbc:mysql://localhost:3306/creditcard\") \\\n",
    "    .option(\"dbtable\", \"customer\") \\\n",
    "    .option(\"user\", \"root\") \\\n",
    "    .option(\"password\", \"khang\") \\\n",
    "    .mode(\"overwrite\") \\\n",
    "    .save()"
   ]
  }
 ],
 "metadata": {
  "kernelspec": {
   "display_name": "Python 3",
   "language": "python",
   "name": "python3"
  },
  "language_info": {
   "codemirror_mode": {
    "name": "ipython",
    "version": 3
   },
   "file_extension": ".py",
   "mimetype": "text/x-python",
   "name": "python",
   "nbconvert_exporter": "python",
   "pygments_lexer": "ipython3",
   "version": "3.10.1"
  }
 },
 "nbformat": 4,
 "nbformat_minor": 2
}
