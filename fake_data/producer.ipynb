{
 "cells": [
  {
   "cell_type": "code",
   "execution_count": 1,
   "metadata": {},
   "outputs": [
    {
     "name": "stdout",
     "output_type": "stream",
     "text": [
      "Kafka Producer Application Started ... \n",
      "Message: {\"cc_num\": \"5157595343543285\", \"trans_num\": \"65685514ff0d1c8c1c4ee5a514539302\", \"trans_date\": \"2016-12-25T00:00:00.000+05:30\", \"trans_time\": \"19:44:51\", \"unix_time\": \"1482695091\", \"category\": \"gas_transport\", \"merchant\": \"Schaefer, Maggio and Daugherty\", \"amt\": \"75\", \"merch_lat\": \"27.416029\", \"merch_long\": \"-98.836205\"}\n",
      "Message: {\"cc_num\": \"4483018920250\", \"trans_num\": \"a6563d05c87fb4e4af923c6c42667203\", \"trans_date\": \"2017-01-11T00:00:00.000+05:30\", \"trans_time\": \"21:13:34\", \"unix_time\": \"1484169214\", \"category\": \"food_dining\", \"merchant\": \"Lesch, DAmore and Brown\", \"amt\": \"56\", \"merch_lat\": \"36.954036\", \"merch_long\": \"-108.192545\"}\n",
      "Message: {\"cc_num\": \"4361646620879135\", \"trans_num\": \"19b76c72c860aa2a560ab4acf98ee373\", \"trans_date\": \"2016-12-01T00:00:00.000+05:30\", \"trans_time\": \"23:16:52\", \"unix_time\": \"1480634212\", \"category\": \"home\", \"merchant\": \"Durgan, Gislason and Spencer\", \"amt\": \"449\", \"merch_lat\": \"40.097713\", \"merch_long\": \"-73.577023\"}\n",
      "Message: {\"cc_num\": \"4483018920250\", \"trans_num\": \"cbabd6726f33fd0ed440cc92baeff872\", \"trans_date\": \"2016-07-09T00:00:00.000+05:30\", \"trans_time\": \"23:30:38\", \"unix_time\": \"1468107038\", \"category\": \"home\", \"merchant\": \"Renner Ltd\", \"amt\": \"347\", \"merch_lat\": \"35.507304\", \"merch_long\": \"-107.594906\"}\n",
      "Message: {\"cc_num\": \"4483018920250\", \"trans_num\": \"74cb73906383d765bd87f6cd415593dc\", \"trans_date\": \"2017-01-04T00:00:00.000+05:30\", \"trans_time\": \"15:03:06\", \"unix_time\": \"1483542186\", \"category\": \"entertainment\", \"merchant\": \"Morissette LLC\", \"amt\": \"147\", \"merch_lat\": \"36.966665\", \"merch_long\": \"-108.172937\"}\n",
      "Message: {\"cc_num\": \"6011779269963768\", \"trans_num\": \"6c7e43bd20020287838dde02db0c5b30\", \"trans_date\": \"2016-12-26T00:00:00.000+05:30\", \"trans_time\": \"13:11:20\", \"unix_time\": \"1482757880\", \"category\": \"food_dining\", \"merchant\": \"Kilback LLC\", \"amt\": \"106\", \"merch_lat\": \"36.686827\", \"merch_long\": \"-89.785905\"}\n",
      "Message: {\"cc_num\": \"4641003399120410\", \"trans_num\": \"3cfcd73b2fbf7449d8bedd9188dbce21\", \"trans_date\": \"2016-09-25T00:00:00.000+05:30\", \"trans_time\": \"22:28:31\", \"unix_time\": \"1474842511\", \"category\": \"home\", \"merchant\": \"Gaylord-Powlowski\", \"amt\": \"208\", \"merch_lat\": \"43.418862\", \"merch_long\": \"-92.464613\"}\n",
      "Message: {\"cc_num\": \"4641003399120410\", \"trans_num\": \"158cf762b50bab3a68cd465af19e4d25\", \"trans_date\": \"2016-12-25T00:00:00.000+05:30\", \"trans_time\": \"20:37:47\", \"unix_time\": \"1482698267\", \"category\": \"kids_pets\", \"merchant\": \"Weber, Thiel and Hammes\", \"amt\": \"52\", \"merch_lat\": \"42.173336\", \"merch_long\": \"-92.15107\"}\n",
      "Message: {\"cc_num\": \"4483018920250\", \"trans_num\": \"b328d07a1e628a4f55e8c63932afbefc\", \"trans_date\": \"2016-07-10T00:00:00.000+05:30\", \"trans_time\": \"01:44:04\", \"unix_time\": \"1468115044\", \"category\": \"personal_care\", \"merchant\": \"Nienow, Barrows and Romaguera\", \"amt\": \"368\", \"merch_lat\": \"37.829509\", \"merch_long\": \"-108.056432\"}\n",
      "Message: {\"cc_num\": \"4361646620879135\", \"trans_num\": \"af5ec4ff8b320f310406794c04f2d643\", \"trans_date\": \"2016-12-01T00:00:00.000+05:30\", \"trans_time\": \"01:45:02\", \"unix_time\": \"1480556702\", \"category\": \"travel\", \"merchant\": \"Hodkiewicz, Prohaska and Paucek\", \"amt\": \"471\", \"merch_lat\": \"41.485441\", \"merch_long\": \"-73.228024\"}\n",
      "Message: {\"cc_num\": \"4361646620879135\", \"trans_num\": \"bac71ea1e531bb75afef04d96cbcb394\", \"trans_date\": \"2017-01-30T00:00:00.000+05:30\", \"trans_time\": \"06:28:57\", \"unix_time\": \"1485757737\", \"category\": \"shopping_pos\", \"merchant\": \"Douglas, Schneider and Turner\", \"amt\": \"76\", \"merch_lat\": \"41.681763\", \"merch_long\": \"-74.663194\"}\n",
      "Message: {\"cc_num\": \"4483018920250\", \"trans_num\": \"6fa2caad2b1dfe6b2d999fbb4fdf6824\", \"trans_date\": \"2016-12-29T00:00:00.000+05:30\", \"trans_time\": \"08:35:07\", \"unix_time\": \"1483000507\", \"category\": \"shopping_pos\", \"merchant\": \"Kihn Inc\", \"amt\": \"110\", \"merch_lat\": \"36.970962\", \"merch_long\": \"-108.164001\"}\n",
      "Message: {\"cc_num\": \"675985166411\", \"trans_num\": \"bfa72cc62f465eddf9156e65b44a18af\", \"trans_date\": \"2016-12-24T00:00:00.000+05:30\", \"trans_time\": \"23:40:16\", \"unix_time\": \"1482622816\", \"category\": \"gas_transport\", \"merchant\": \"Connelly, Reichert and Fritsch\", \"amt\": \"32\", \"merch_lat\": \"44.768437\", \"merch_long\": \"-75.143794\"}\n",
      "Message: {\"cc_num\": \"5157595343543285\", \"trans_num\": \"686f932e38c76533dbf74051c3e9ebcc\", \"trans_date\": \"2016-12-30T00:00:00.000+05:30\", \"trans_time\": \"12:56:26\", \"unix_time\": \"1483102586\", \"category\": \"home\", \"merchant\": \"Altenwerth-Kilback\", \"amt\": \"60\", \"merch_lat\": \"27.431559\", \"merch_long\": \"-98.850068\"}\n"
     ]
    }
   ],
   "source": [
    "from kafka import KafkaProducer\n",
    "import csv\n",
    "import json\n",
    "import time\n",
    "\n",
    "KAFKA_TOPIC_NAME = 'Fraud-detection'\n",
    "KAFKA_BOOTSTRAP_SERVERS = 'localhost:9092'\n",
    "csv_file_path = './test_msg.csv'\n",
    "\n",
    "producer = KafkaProducer(bootstrap_servers=KAFKA_BOOTSTRAP_SERVERS)\n",
    "print(\"Kafka Producer Application Started ... \")\n",
    "\n",
    "with open(csv_file_path, newline='') as csvfile:\n",
    "    csv_reader = csv.DictReader(csvfile)\n",
    "    for row in csv_reader:\n",
    "        try:\n",
    "            json_data = json.dumps(row)\n",
    "            producer.send(KAFKA_TOPIC_NAME, value=json_data.encode('utf-8'))\n",
    "            print(\"Message:\", json_data)\n",
    "            time.sleep(5)\n",
    "        except KeyboardInterrupt:\n",
    "            print('break')\n",
    "            break\n",
    "print(\"Kafka Producer Application Completed. \")"
   ]
  }
 ],
 "metadata": {
  "kernelspec": {
   "display_name": "Python 3",
   "language": "python",
   "name": "python3"
  },
  "language_info": {
   "codemirror_mode": {
    "name": "ipython",
    "version": 3
   },
   "file_extension": ".py",
   "mimetype": "text/x-python",
   "name": "python",
   "nbconvert_exporter": "python",
   "pygments_lexer": "ipython3",
   "version": "3.10.1"
  }
 },
 "nbformat": 4,
 "nbformat_minor": 2
}
